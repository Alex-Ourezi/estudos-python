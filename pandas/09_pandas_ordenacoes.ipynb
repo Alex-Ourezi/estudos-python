{
 "cells": [
  {
   "cell_type": "markdown",
   "id": "ab1c1249",
   "metadata": {},
   "source": [
    "# ⬆️⬇️ Ordenações com sort_values"
   ]
  },
  {
   "cell_type": "markdown",
   "id": "5fac1cc7",
   "metadata": {},
   "source": [
    "\n",
    "## ✅ Ordenar crescente\n",
    "```python\n",
    "df.sort_values(\"preco\")\n",
    "```\n",
    "\n",
    "## ✅ Ordenar decrescente\n",
    "```python\n",
    "df.sort_values(\"preco\", ascending=False)\n",
    "```\n",
    "\n",
    "## ✅ Ordenar por múltiplas colunas\n",
    "```python\n",
    "df.sort_values(by=[\"categoria\", \"preco\"])\n",
    "```\n"
   ]
  },
  {
   "cell_type": "markdown",
   "id": "8e6bccf6",
   "metadata": {},
   "source": [
    "### 🧪 Desafio 1"
   ]
  },
  {
   "cell_type": "code",
   "execution_count": null,
   "id": "8d1dbe9c",
   "metadata": {},
   "outputs": [],
   "source": [
    "# Seu código aqui"
   ]
  },
  {
   "cell_type": "markdown",
   "id": "049f10a7",
   "metadata": {},
   "source": [
    "### 🧪 Desafio 2"
   ]
  },
  {
   "cell_type": "code",
   "execution_count": null,
   "id": "3fbb1a12",
   "metadata": {},
   "outputs": [],
   "source": [
    "# Seu código aqui"
   ]
  },
  {
   "cell_type": "markdown",
   "id": "a4fd2356",
   "metadata": {},
   "source": [
    "### 🧪 Desafio 3"
   ]
  },
  {
   "cell_type": "code",
   "execution_count": null,
   "id": "0fb928e4",
   "metadata": {},
   "outputs": [],
   "source": [
    "# Seu código aqui"
   ]
  },
  {
   "cell_type": "markdown",
   "id": "c6dbd034",
   "metadata": {},
   "source": [
    "### 🧪 Desafio 4"
   ]
  },
  {
   "cell_type": "code",
   "execution_count": null,
   "id": "f35a15cb",
   "metadata": {},
   "outputs": [],
   "source": [
    "# Seu código aqui"
   ]
  },
  {
   "cell_type": "markdown",
   "id": "c24d20c0",
   "metadata": {},
   "source": [
    "### 🧪 Desafio 5"
   ]
  },
  {
   "cell_type": "code",
   "execution_count": null,
   "id": "33179de2",
   "metadata": {},
   "outputs": [],
   "source": [
    "# Seu código aqui"
   ]
  }
 ],
 "metadata": {},
 "nbformat": 4,
 "nbformat_minor": 5
}
