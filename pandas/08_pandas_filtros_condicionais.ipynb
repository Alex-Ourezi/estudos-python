{
 "cells": [
  {
   "cell_type": "markdown",
   "id": "77cf002a",
   "metadata": {},
   "source": [
    "# 🔍 Filtros Condicionais"
   ]
  },
  {
   "cell_type": "markdown",
   "id": "328c32ef",
   "metadata": {},
   "source": [
    "\n",
    "## ✅ Filtro simples\n",
    "```python\n",
    "df[df[\"preco\"] > 50]\n",
    "```\n",
    "\n",
    "## ✅ Filtro com duas condições\n",
    "```python\n",
    "df[(df[\"preco\"] > 50) & (df[\"estoque\"] > 5)]\n",
    "```\n",
    "\n",
    "## ✅ Filtro com `.isin()`\n",
    "```python\n",
    "df[df[\"loja\"].isin([\"Loja A\", \"Loja C\"])]\n",
    "```\n"
   ]
  },
  {
   "cell_type": "markdown",
   "id": "0d6f42d3",
   "metadata": {},
   "source": [
    "### 🧪 Desafio 1"
   ]
  },
  {
   "cell_type": "code",
   "execution_count": null,
   "id": "d4a0260a",
   "metadata": {},
   "outputs": [],
   "source": [
    "# Seu código aqui"
   ]
  },
  {
   "cell_type": "markdown",
   "id": "875e75f5",
   "metadata": {},
   "source": [
    "### 🧪 Desafio 2"
   ]
  },
  {
   "cell_type": "code",
   "execution_count": null,
   "id": "43a9e78f",
   "metadata": {},
   "outputs": [],
   "source": [
    "# Seu código aqui"
   ]
  },
  {
   "cell_type": "markdown",
   "id": "f477438a",
   "metadata": {},
   "source": [
    "### 🧪 Desafio 3"
   ]
  },
  {
   "cell_type": "code",
   "execution_count": null,
   "id": "637ec1a3",
   "metadata": {},
   "outputs": [],
   "source": [
    "# Seu código aqui"
   ]
  },
  {
   "cell_type": "markdown",
   "id": "85e218d0",
   "metadata": {},
   "source": [
    "### 🧪 Desafio 4"
   ]
  },
  {
   "cell_type": "code",
   "execution_count": null,
   "id": "022fe346",
   "metadata": {},
   "outputs": [],
   "source": [
    "# Seu código aqui"
   ]
  },
  {
   "cell_type": "markdown",
   "id": "64c01dfa",
   "metadata": {},
   "source": [
    "### 🧪 Desafio 5"
   ]
  },
  {
   "cell_type": "code",
   "execution_count": null,
   "id": "c53bf854",
   "metadata": {},
   "outputs": [],
   "source": [
    "# Seu código aqui"
   ]
  }
 ],
 "metadata": {},
 "nbformat": 4,
 "nbformat_minor": 5
}
