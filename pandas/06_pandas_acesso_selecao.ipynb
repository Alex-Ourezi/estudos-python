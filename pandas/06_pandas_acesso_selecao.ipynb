{
 "cells": [
  {
   "cell_type": "markdown",
   "id": "665f7fc4",
   "metadata": {},
   "source": [
    "# 🎯 Acesso e Seleção de Dados"
   ]
  },
  {
   "cell_type": "markdown",
   "id": "028b5b26",
   "metadata": {},
   "source": [
    "\n",
    "## 📌 Formas de acessar dados:\n",
    "\n",
    "### ✅ 1. Acesso por colchetes `[]`\n",
    "```python\n",
    "df[\"coluna\"]\n",
    "df[[\"coluna1\", \"coluna2\"]]\n",
    "```\n",
    "\n",
    "### ✅ 2. Acesso com `.loc[]` → por rótulo\n",
    "```python\n",
    "df.loc[2, \"produto\"]\n",
    "df.loc[:, [\"produto\", \"preco\"]]\n",
    "df.loc[df[\"preco\"] > 50]\n",
    "```\n",
    "\n",
    "### ✅ 3. Acesso com `.iloc[]` → por posição\n",
    "```python\n",
    "df.iloc[0]\n",
    "df.iloc[0:3, 1]\n",
    "df.iloc[:, [0, 2]]\n",
    "```\n",
    "\n",
    "🔧 Dica: `loc` = rótulo (label), `iloc` = índice (integer position)\n"
   ]
  },
  {
   "cell_type": "markdown",
   "id": "c8cc0824",
   "metadata": {},
   "source": [
    "### 🧪 Desafio 1"
   ]
  },
  {
   "cell_type": "code",
   "execution_count": null,
   "id": "1e1fea24",
   "metadata": {},
   "outputs": [],
   "source": [
    "# Seu código aqui"
   ]
  },
  {
   "cell_type": "markdown",
   "id": "f68cf20c",
   "metadata": {},
   "source": [
    "### 🧪 Desafio 2"
   ]
  },
  {
   "cell_type": "code",
   "execution_count": null,
   "id": "2fa89d3a",
   "metadata": {},
   "outputs": [],
   "source": [
    "# Seu código aqui"
   ]
  },
  {
   "cell_type": "markdown",
   "id": "7b389b65",
   "metadata": {},
   "source": [
    "### 🧪 Desafio 3"
   ]
  },
  {
   "cell_type": "code",
   "execution_count": null,
   "id": "d4a13662",
   "metadata": {},
   "outputs": [],
   "source": [
    "# Seu código aqui"
   ]
  },
  {
   "cell_type": "markdown",
   "id": "c4a664d8",
   "metadata": {},
   "source": [
    "### 🧪 Desafio 4"
   ]
  },
  {
   "cell_type": "code",
   "execution_count": null,
   "id": "b1a955fa",
   "metadata": {},
   "outputs": [],
   "source": [
    "# Seu código aqui"
   ]
  },
  {
   "cell_type": "markdown",
   "id": "4c38f537",
   "metadata": {},
   "source": [
    "### 🧪 Desafio 5"
   ]
  },
  {
   "cell_type": "code",
   "execution_count": null,
   "id": "fa92a3b9",
   "metadata": {},
   "outputs": [],
   "source": [
    "# Seu código aqui"
   ]
  }
 ],
 "metadata": {},
 "nbformat": 4,
 "nbformat_minor": 5
}
