{
 "cells": [
  {
   "cell_type": "markdown",
   "id": "e63ea350",
   "metadata": {},
   "source": [
    "# 📌 O que é uma Series?\n",
    "\n",
    "Uma `Series` é uma estrutura de dados unidimensional do Pandas, parecida com uma lista do Python, mas com **rótulos (índices)** para cada valor.\n",
    "\n",
    "É como uma coluna de uma planilha, com rótulo na linha e um valor associado.\n",
    "\n",
    "### ✅ Para que serve:\n",
    "- Armazenar uma sequência de dados com rótulo.\n",
    "- Representar uma **única coluna** de uma tabela.\n",
    "\n",
    "### 🛠️ Como criar uma Series:\n",
    "```python\n",
    "import pandas as pd\n",
    "\n",
    "# Exemplo com lista simples\n",
    "precos = pd.Series([10.5, 20.3, 15.0])\n",
    "```\n",
    "\n",
    "### 🔧 Parâmetros importantes:\n",
    "- `data`: os valores que você quer armazenar\n",
    "- `index`: (opcional) os rótulos de cada valor\n",
    "- `name`: (opcional) o nome da Series\n",
    "\n",
    "### 💡 Exemplo com rótulos personalizados:\n",
    "```python\n",
    "produtos = pd.Series([49.9, 99.9, 29.9], index=[\"Camiseta\", \"Calça\", \"Boné\"], name=\"Preço\")\n",
    "```\n",
    "\n",
    "### 🚩 Dicas:\n",
    "- Você pode acessar os valores por índice: `produtos[\"Calça\"]`\n",
    "- Pode aplicar filtros: `produtos[produtos > 30]`\n"
   ]
  },
  {
   "cell_type": "markdown",
   "id": "11588708",
   "metadata": {},
   "source": [
    "### 🧪 1. Crie uma Series chamada `idades` com os valores [22, 35, 19, 42]"
   ]
  },
  {
   "cell_type": "code",
   "execution_count": null,
   "id": "99bd45aa",
   "metadata": {},
   "outputs": [],
   "source": [
    "# Seu código aqui"
   ]
  },
  {
   "cell_type": "markdown",
   "id": "e8ab51e2",
   "metadata": {},
   "source": [
    "### 🧪 2. Crie uma Series chamada `estoque` com os valores [10, 5, 8] e índices ['Produto A', 'Produto B', 'Produto C']"
   ]
  },
  {
   "cell_type": "code",
   "execution_count": null,
   "id": "94f1632b",
   "metadata": {},
   "outputs": [],
   "source": [
    "# Seu código aqui"
   ]
  },
  {
   "cell_type": "markdown",
   "id": "ed41b056",
   "metadata": {},
   "source": [
    "### 🧪 3. Acesse o valor do índice 'Produto B' da Series `estoque`"
   ]
  },
  {
   "cell_type": "code",
   "execution_count": null,
   "id": "795df599",
   "metadata": {},
   "outputs": [],
   "source": [
    "# Seu código aqui"
   ]
  },
  {
   "cell_type": "markdown",
   "id": "f6955165",
   "metadata": {},
   "source": [
    "### 🧪 4. Filtre os valores da Series `estoque` que são maiores que 6"
   ]
  },
  {
   "cell_type": "code",
   "execution_count": null,
   "id": "762c47c4",
   "metadata": {},
   "outputs": [],
   "source": [
    "# Seu código aqui"
   ]
  },
  {
   "cell_type": "markdown",
   "id": "55fa08b4",
   "metadata": {},
   "source": [
    "### 🧪 5. Crie uma Series com 5 preços fictícios e exiba apenas os maiores que 50"
   ]
  },
  {
   "cell_type": "code",
   "execution_count": null,
   "id": "a4f4a262",
   "metadata": {},
   "outputs": [],
   "source": [
    "# Seu código aqui"
   ]
  }
 ],
 "metadata": {},
 "nbformat": 4,
 "nbformat_minor": 5
}
