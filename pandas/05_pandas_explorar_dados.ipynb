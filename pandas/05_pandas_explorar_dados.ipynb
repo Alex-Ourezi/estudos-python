{
 "cells": [
  {
   "cell_type": "markdown",
   "id": "2f6e2e3f",
   "metadata": {},
   "source": [
    "# 🔍 Exploração inicial de dados com Pandas\n",
    "\n",
    "Depois de carregar seus dados com `read_csv()`, você precisa entender **o que tem no seu DataFrame**.\n",
    "\n",
    "---\n",
    "\n",
    "## 🧰 Métodos mais úteis para explorar os dados:\n",
    "\n",
    "### ✅ `.head(n)`\n",
    "Mostra as **primeiras n linhas** (padrão: 5)\n",
    "```python\n",
    "df.head()\n",
    "```\n",
    "\n",
    "### ✅ `.tail(n)`\n",
    "Mostra as **últimas n linhas**\n",
    "```python\n",
    "df.tail(3)\n",
    "```\n",
    "\n",
    "### ✅ `.shape`\n",
    "Mostra o **formato** do DataFrame (linhas, colunas)\n",
    "```python\n",
    "df.shape\n",
    "```\n",
    "\n",
    "### ✅ `.info()`\n",
    "Mostra um resumo da estrutura: colunas, tipos, valores nulos\n",
    "```python\n",
    "df.info()\n",
    "```\n",
    "\n",
    "### ✅ `.describe()`\n",
    "Mostra estatísticas descritivas para colunas numéricas\n",
    "```python\n",
    "df.describe()\n",
    "```\n",
    "\n",
    "---\n",
    "\n",
    "## 💡 Dicas:\n",
    "- Use `.info()` para checar se há **valores nulos**\n",
    "- Use `.describe()` para ver **média, desvio, min/max, percentis**\n",
    "- `.shape[0]` retorna só o número de linhas, `.shape[1]` retorna número de colunas\n"
   ]
  },
  {
   "cell_type": "markdown",
   "id": "8d1c68ff",
   "metadata": {},
   "source": [
    "### 🧪 1. Carregue o arquivo 'base_vendas.csv' e exiba as 3 primeiras linhas"
   ]
  },
  {
   "cell_type": "code",
   "execution_count": null,
   "id": "8d3fefde",
   "metadata": {},
   "outputs": [],
   "source": [
    "# Seu código aqui"
   ]
  },
  {
   "cell_type": "markdown",
   "id": "8e16360e",
   "metadata": {},
   "source": [
    "### 🧪 2. Exiba as últimas 2 linhas do DataFrame"
   ]
  },
  {
   "cell_type": "code",
   "execution_count": null,
   "id": "d405d3e8",
   "metadata": {},
   "outputs": [],
   "source": [
    "# Seu código aqui"
   ]
  },
  {
   "cell_type": "markdown",
   "id": "90dd71e6",
   "metadata": {},
   "source": [
    "### 🧪 3. Mostre o número total de linhas e colunas"
   ]
  },
  {
   "cell_type": "code",
   "execution_count": null,
   "id": "0a7aca98",
   "metadata": {},
   "outputs": [],
   "source": [
    "# Seu código aqui"
   ]
  },
  {
   "cell_type": "markdown",
   "id": "61cf2740",
   "metadata": {},
   "source": [
    "### 🧪 4. Exiba as informações do DataFrame com `.info()`"
   ]
  },
  {
   "cell_type": "code",
   "execution_count": null,
   "id": "4c52988f",
   "metadata": {},
   "outputs": [],
   "source": [
    "# Seu código aqui"
   ]
  },
  {
   "cell_type": "markdown",
   "id": "c5422595",
   "metadata": {},
   "source": [
    "### 🧪 5. Mostre um resumo estatístico das colunas numéricas"
   ]
  },
  {
   "cell_type": "code",
   "execution_count": null,
   "id": "f628792c",
   "metadata": {},
   "outputs": [],
   "source": [
    "# Seu código aqui"
   ]
  }
 ],
 "metadata": {},
 "nbformat": 4,
 "nbformat_minor": 5
}
