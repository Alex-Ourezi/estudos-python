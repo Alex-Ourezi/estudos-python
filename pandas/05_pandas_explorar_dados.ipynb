{
 "cells": [
  {
   "cell_type": "markdown",
   "id": "2f6e2e3f",
   "metadata": {},
   "source": [
    "# 🔍 Exploração inicial de dados com Pandas\n",
    "\n",
    "Depois de carregar seus dados com `read_csv()`, você precisa entender **o que tem no seu DataFrame**.\n",
    "\n",
    "---\n",
    "\n",
    "## 🧰 Métodos mais úteis para explorar os dados:\n",
    "\n",
    "### ✅ `.head(n)`\n",
    "Mostra as **primeiras n linhas** (padrão: 5)\n",
    "```python\n",
    "df.head()\n",
    "```\n",
    "\n",
    "### ✅ `.tail(n)`\n",
    "Mostra as **últimas n linhas**\n",
    "```python\n",
    "df.tail(3)\n",
    "```\n",
    "\n",
    "### ✅ `.shape`\n",
    "Mostra o **formato** do DataFrame (linhas, colunas)\n",
    "```python\n",
    "df.shape\n",
    "```\n",
    "\n",
    "### ✅ `.info()`\n",
    "Mostra um resumo da estrutura: colunas, tipos, valores nulos\n",
    "```python\n",
    "df.info()\n",
    "```\n",
    "\n",
    "### ✅ `.describe()`\n",
    "Mostra estatísticas descritivas para colunas numéricas\n",
    "```python\n",
    "df.describe()\n",
    "```\n",
    "\n",
    "---\n",
    "\n",
    "## 💡 Dicas:\n",
    "- Use `.info()` para checar se há **valores nulos**\n",
    "- Use `.describe()` para ver **média, desvio, min/max, percentis**\n",
    "- `.shape[0]` retorna só o número de linhas, `.shape[1]` retorna número de colunas\n"
   ]
  },
  {
   "cell_type": "markdown",
   "id": "8d1c68ff",
   "metadata": {},
   "source": [
    "### 🧪 1. Carregue o arquivo 'base_vendas.csv' e exiba as 3 primeiras linhas"
   ]
  },
  {
   "cell_type": "code",
   "execution_count": 12,
   "id": "8d3fefde",
   "metadata": {},
   "outputs": [
    {
     "data": {
      "text/html": [
       "<div>\n",
       "<style scoped>\n",
       "    .dataframe tbody tr th:only-of-type {\n",
       "        vertical-align: middle;\n",
       "    }\n",
       "\n",
       "    .dataframe tbody tr th {\n",
       "        vertical-align: top;\n",
       "    }\n",
       "\n",
       "    .dataframe thead th {\n",
       "        text-align: right;\n",
       "    }\n",
       "</style>\n",
       "<table border=\"1\" class=\"dataframe\">\n",
       "  <thead>\n",
       "    <tr style=\"text-align: right;\">\n",
       "      <th></th>\n",
       "      <th>produto</th>\n",
       "      <th>categoria</th>\n",
       "      <th>preco</th>\n",
       "      <th>estoque</th>\n",
       "      <th>loja</th>\n",
       "    </tr>\n",
       "  </thead>\n",
       "  <tbody>\n",
       "    <tr>\n",
       "      <th>0</th>\n",
       "      <td>Camiseta</td>\n",
       "      <td>Roupas</td>\n",
       "      <td>49.9</td>\n",
       "      <td>10</td>\n",
       "      <td>Loja A</td>\n",
       "    </tr>\n",
       "    <tr>\n",
       "      <th>1</th>\n",
       "      <td>Calça</td>\n",
       "      <td>Roupas</td>\n",
       "      <td>99.9</td>\n",
       "      <td>5</td>\n",
       "      <td>Loja B</td>\n",
       "    </tr>\n",
       "    <tr>\n",
       "      <th>2</th>\n",
       "      <td>Tênis</td>\n",
       "      <td>Calçados</td>\n",
       "      <td>199.9</td>\n",
       "      <td>7</td>\n",
       "      <td>Loja A</td>\n",
       "    </tr>\n",
       "  </tbody>\n",
       "</table>\n",
       "</div>"
      ],
      "text/plain": [
       "    produto categoria  preco  estoque    loja\n",
       "0  Camiseta    Roupas   49.9       10  Loja A\n",
       "1     Calça    Roupas   99.9        5  Loja B\n",
       "2     Tênis  Calçados  199.9        7  Loja A"
      ]
     },
     "metadata": {},
     "output_type": "display_data"
    }
   ],
   "source": [
    "# Seu código aqui\n",
    "import pandas as pd\n",
    "vendas_df = pd.read_csv('base_vendas.csv')\n",
    "display(vendas_df.head(3))\n"
   ]
  },
  {
   "cell_type": "markdown",
   "id": "8e16360e",
   "metadata": {},
   "source": [
    "### 🧪 2. Exiba as últimas 2 linhas do DataFrame"
   ]
  },
  {
   "cell_type": "code",
   "execution_count": 9,
   "id": "d405d3e8",
   "metadata": {},
   "outputs": [
    {
     "data": {
      "text/html": [
       "<div>\n",
       "<style scoped>\n",
       "    .dataframe tbody tr th:only-of-type {\n",
       "        vertical-align: middle;\n",
       "    }\n",
       "\n",
       "    .dataframe tbody tr th {\n",
       "        vertical-align: top;\n",
       "    }\n",
       "\n",
       "    .dataframe thead th {\n",
       "        text-align: right;\n",
       "    }\n",
       "</style>\n",
       "<table border=\"1\" class=\"dataframe\">\n",
       "  <thead>\n",
       "    <tr style=\"text-align: right;\">\n",
       "      <th></th>\n",
       "      <th>produto</th>\n",
       "      <th>categoria</th>\n",
       "      <th>preco</th>\n",
       "      <th>estoque</th>\n",
       "      <th>loja</th>\n",
       "    </tr>\n",
       "  </thead>\n",
       "  <tbody>\n",
       "    <tr>\n",
       "      <th>8</th>\n",
       "      <td>Calça</td>\n",
       "      <td>Roupas</td>\n",
       "      <td>89.9</td>\n",
       "      <td>6</td>\n",
       "      <td>Loja C</td>\n",
       "    </tr>\n",
       "    <tr>\n",
       "      <th>9</th>\n",
       "      <td>Boné</td>\n",
       "      <td>Acessórios</td>\n",
       "      <td>39.9</td>\n",
       "      <td>25</td>\n",
       "      <td>Loja B</td>\n",
       "    </tr>\n",
       "  </tbody>\n",
       "</table>\n",
       "</div>"
      ],
      "text/plain": [
       "  produto   categoria  preco  estoque    loja\n",
       "8   Calça      Roupas   89.9        6  Loja C\n",
       "9    Boné  Acessórios   39.9       25  Loja B"
      ]
     },
     "execution_count": 9,
     "metadata": {},
     "output_type": "execute_result"
    }
   ],
   "source": [
    "# Seu código aqui\n",
    "vendas_df.tail(2)"
   ]
  },
  {
   "cell_type": "markdown",
   "id": "90dd71e6",
   "metadata": {},
   "source": [
    "### 🧪 3. Mostre o número total de linhas e colunas"
   ]
  },
  {
   "cell_type": "code",
   "execution_count": 10,
   "id": "0a7aca98",
   "metadata": {},
   "outputs": [
    {
     "data": {
      "text/plain": [
       "(10, 5)"
      ]
     },
     "execution_count": 10,
     "metadata": {},
     "output_type": "execute_result"
    }
   ],
   "source": [
    "# Seu código aqui\n",
    "vendas_df.shape"
   ]
  },
  {
   "cell_type": "markdown",
   "id": "61cf2740",
   "metadata": {},
   "source": [
    "### 🧪 4. Exiba as informações do DataFrame com `.info()`"
   ]
  },
  {
   "cell_type": "code",
   "execution_count": 11,
   "id": "4c52988f",
   "metadata": {},
   "outputs": [
    {
     "name": "stdout",
     "output_type": "stream",
     "text": [
      "<class 'pandas.core.frame.DataFrame'>\n",
      "RangeIndex: 10 entries, 0 to 9\n",
      "Data columns (total 5 columns):\n",
      " #   Column     Non-Null Count  Dtype  \n",
      "---  ------     --------------  -----  \n",
      " 0   produto    10 non-null     object \n",
      " 1   categoria  10 non-null     object \n",
      " 2   preco      10 non-null     float64\n",
      " 3   estoque    10 non-null     int64  \n",
      " 4   loja       10 non-null     object \n",
      "dtypes: float64(1), int64(1), object(3)\n",
      "memory usage: 532.0+ bytes\n"
     ]
    }
   ],
   "source": [
    "# Seu código aqui\n",
    "vendas_df.info()"
   ]
  },
  {
   "cell_type": "markdown",
   "id": "c5422595",
   "metadata": {},
   "source": [
    "### 🧪 5. Mostre um resumo estatístico das colunas numéricas"
   ]
  },
  {
   "cell_type": "code",
   "execution_count": 13,
   "id": "f628792c",
   "metadata": {},
   "outputs": [
    {
     "data": {
      "text/html": [
       "<div>\n",
       "<style scoped>\n",
       "    .dataframe tbody tr th:only-of-type {\n",
       "        vertical-align: middle;\n",
       "    }\n",
       "\n",
       "    .dataframe tbody tr th {\n",
       "        vertical-align: top;\n",
       "    }\n",
       "\n",
       "    .dataframe thead th {\n",
       "        text-align: right;\n",
       "    }\n",
       "</style>\n",
       "<table border=\"1\" class=\"dataframe\">\n",
       "  <thead>\n",
       "    <tr style=\"text-align: right;\">\n",
       "      <th></th>\n",
       "      <th>preco</th>\n",
       "      <th>estoque</th>\n",
       "    </tr>\n",
       "  </thead>\n",
       "  <tbody>\n",
       "    <tr>\n",
       "      <th>count</th>\n",
       "      <td>10.00000</td>\n",
       "      <td>10.000000</td>\n",
       "    </tr>\n",
       "    <tr>\n",
       "      <th>mean</th>\n",
       "      <td>94.90000</td>\n",
       "      <td>13.800000</td>\n",
       "    </tr>\n",
       "    <tr>\n",
       "      <th>std</th>\n",
       "      <td>72.61007</td>\n",
       "      <td>14.604413</td>\n",
       "    </tr>\n",
       "    <tr>\n",
       "      <th>min</th>\n",
       "      <td>9.90000</td>\n",
       "      <td>3.000000</td>\n",
       "    </tr>\n",
       "    <tr>\n",
       "      <th>25%</th>\n",
       "      <td>42.40000</td>\n",
       "      <td>5.250000</td>\n",
       "    </tr>\n",
       "    <tr>\n",
       "      <th>50%</th>\n",
       "      <td>74.90000</td>\n",
       "      <td>7.500000</td>\n",
       "    </tr>\n",
       "    <tr>\n",
       "      <th>75%</th>\n",
       "      <td>137.40000</td>\n",
       "      <td>17.500000</td>\n",
       "    </tr>\n",
       "    <tr>\n",
       "      <th>max</th>\n",
       "      <td>219.90000</td>\n",
       "      <td>50.000000</td>\n",
       "    </tr>\n",
       "  </tbody>\n",
       "</table>\n",
       "</div>"
      ],
      "text/plain": [
       "           preco    estoque\n",
       "count   10.00000  10.000000\n",
       "mean    94.90000  13.800000\n",
       "std     72.61007  14.604413\n",
       "min      9.90000   3.000000\n",
       "25%     42.40000   5.250000\n",
       "50%     74.90000   7.500000\n",
       "75%    137.40000  17.500000\n",
       "max    219.90000  50.000000"
      ]
     },
     "execution_count": 13,
     "metadata": {},
     "output_type": "execute_result"
    }
   ],
   "source": [
    "# Seu código aqui\n",
    "vendas_df.describe()"
   ]
  }
 ],
 "metadata": {
  "kernelspec": {
   "display_name": "base",
   "language": "python",
   "name": "python3"
  },
  "language_info": {
   "codemirror_mode": {
    "name": "ipython",
    "version": 3
   },
   "file_extension": ".py",
   "mimetype": "text/x-python",
   "name": "python",
   "nbconvert_exporter": "python",
   "pygments_lexer": "ipython3",
   "version": "3.12.7"
  }
 },
 "nbformat": 4,
 "nbformat_minor": 5
}
