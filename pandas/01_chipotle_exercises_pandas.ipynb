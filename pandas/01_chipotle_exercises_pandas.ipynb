{
 "cells": [
  {
   "cell_type": "markdown",
   "id": "4f00ccf2",
   "metadata": {},
   "source": [
    "## Exercício 1: Importe as bibliotecas necessárias"
   ]
  },
  {
   "cell_type": "markdown",
   "id": "2c3cfc83",
   "metadata": {},
   "source": [
    "### 📘 Explicação:\n",
    "- `import pandas as pd`: biblioteca para manipulação de dados.\n",
    "- `import numpy as np`: biblioteca para cálculos numéricos."
   ]
  },
  {
   "cell_type": "code",
   "execution_count": 2,
   "id": "6cd27353",
   "metadata": {},
   "outputs": [
    {
     "data": {
      "text/html": [
       "<div>\n",
       "<style scoped>\n",
       "    .dataframe tbody tr th:only-of-type {\n",
       "        vertical-align: middle;\n",
       "    }\n",
       "\n",
       "    .dataframe tbody tr th {\n",
       "        vertical-align: top;\n",
       "    }\n",
       "\n",
       "    .dataframe thead th {\n",
       "        text-align: right;\n",
       "    }\n",
       "</style>\n",
       "<table border=\"1\" class=\"dataframe\">\n",
       "  <thead>\n",
       "    <tr style=\"text-align: right;\">\n",
       "      <th></th>\n",
       "      <th>order_id</th>\n",
       "      <th>quantity</th>\n",
       "      <th>item_name</th>\n",
       "      <th>choice_description</th>\n",
       "      <th>item_price</th>\n",
       "    </tr>\n",
       "  </thead>\n",
       "  <tbody>\n",
       "    <tr>\n",
       "      <th>0</th>\n",
       "      <td>1</td>\n",
       "      <td>1</td>\n",
       "      <td>Chips and Fresh Tomato Salsa</td>\n",
       "      <td>NaN</td>\n",
       "      <td>$2.39</td>\n",
       "    </tr>\n",
       "    <tr>\n",
       "      <th>1</th>\n",
       "      <td>1</td>\n",
       "      <td>1</td>\n",
       "      <td>Izze</td>\n",
       "      <td>[Clementine]</td>\n",
       "      <td>$3.39</td>\n",
       "    </tr>\n",
       "    <tr>\n",
       "      <th>2</th>\n",
       "      <td>1</td>\n",
       "      <td>1</td>\n",
       "      <td>Nantucket Nectar</td>\n",
       "      <td>[Apple]</td>\n",
       "      <td>$3.39</td>\n",
       "    </tr>\n",
       "    <tr>\n",
       "      <th>3</th>\n",
       "      <td>1</td>\n",
       "      <td>1</td>\n",
       "      <td>Chips and Tomatillo-Green Chili Salsa</td>\n",
       "      <td>NaN</td>\n",
       "      <td>$2.39</td>\n",
       "    </tr>\n",
       "    <tr>\n",
       "      <th>4</th>\n",
       "      <td>2</td>\n",
       "      <td>2</td>\n",
       "      <td>Chicken Bowl</td>\n",
       "      <td>[Tomatillo-Red Chili Salsa (Hot), [Black Beans...</td>\n",
       "      <td>$16.98</td>\n",
       "    </tr>\n",
       "    <tr>\n",
       "      <th>...</th>\n",
       "      <td>...</td>\n",
       "      <td>...</td>\n",
       "      <td>...</td>\n",
       "      <td>...</td>\n",
       "      <td>...</td>\n",
       "    </tr>\n",
       "    <tr>\n",
       "      <th>4617</th>\n",
       "      <td>1833</td>\n",
       "      <td>1</td>\n",
       "      <td>Steak Burrito</td>\n",
       "      <td>[Fresh Tomato Salsa, [Rice, Black Beans, Sour ...</td>\n",
       "      <td>$11.75</td>\n",
       "    </tr>\n",
       "    <tr>\n",
       "      <th>4618</th>\n",
       "      <td>1833</td>\n",
       "      <td>1</td>\n",
       "      <td>Steak Burrito</td>\n",
       "      <td>[Fresh Tomato Salsa, [Rice, Sour Cream, Cheese...</td>\n",
       "      <td>$11.75</td>\n",
       "    </tr>\n",
       "    <tr>\n",
       "      <th>4619</th>\n",
       "      <td>1834</td>\n",
       "      <td>1</td>\n",
       "      <td>Chicken Salad Bowl</td>\n",
       "      <td>[Fresh Tomato Salsa, [Fajita Vegetables, Pinto...</td>\n",
       "      <td>$11.25</td>\n",
       "    </tr>\n",
       "    <tr>\n",
       "      <th>4620</th>\n",
       "      <td>1834</td>\n",
       "      <td>1</td>\n",
       "      <td>Chicken Salad Bowl</td>\n",
       "      <td>[Fresh Tomato Salsa, [Fajita Vegetables, Lettu...</td>\n",
       "      <td>$8.75</td>\n",
       "    </tr>\n",
       "    <tr>\n",
       "      <th>4621</th>\n",
       "      <td>1834</td>\n",
       "      <td>1</td>\n",
       "      <td>Chicken Salad Bowl</td>\n",
       "      <td>[Fresh Tomato Salsa, [Fajita Vegetables, Pinto...</td>\n",
       "      <td>$8.75</td>\n",
       "    </tr>\n",
       "  </tbody>\n",
       "</table>\n",
       "<p>4622 rows × 5 columns</p>\n",
       "</div>"
      ],
      "text/plain": [
       "      order_id  quantity                              item_name  \\\n",
       "0            1         1           Chips and Fresh Tomato Salsa   \n",
       "1            1         1                                   Izze   \n",
       "2            1         1                       Nantucket Nectar   \n",
       "3            1         1  Chips and Tomatillo-Green Chili Salsa   \n",
       "4            2         2                           Chicken Bowl   \n",
       "...        ...       ...                                    ...   \n",
       "4617      1833         1                          Steak Burrito   \n",
       "4618      1833         1                          Steak Burrito   \n",
       "4619      1834         1                     Chicken Salad Bowl   \n",
       "4620      1834         1                     Chicken Salad Bowl   \n",
       "4621      1834         1                     Chicken Salad Bowl   \n",
       "\n",
       "                                     choice_description item_price  \n",
       "0                                                   NaN     $2.39   \n",
       "1                                          [Clementine]     $3.39   \n",
       "2                                               [Apple]     $3.39   \n",
       "3                                                   NaN     $2.39   \n",
       "4     [Tomatillo-Red Chili Salsa (Hot), [Black Beans...    $16.98   \n",
       "...                                                 ...        ...  \n",
       "4617  [Fresh Tomato Salsa, [Rice, Black Beans, Sour ...    $11.75   \n",
       "4618  [Fresh Tomato Salsa, [Rice, Sour Cream, Cheese...    $11.75   \n",
       "4619  [Fresh Tomato Salsa, [Fajita Vegetables, Pinto...    $11.25   \n",
       "4620  [Fresh Tomato Salsa, [Fajita Vegetables, Lettu...     $8.75   \n",
       "4621  [Fresh Tomato Salsa, [Fajita Vegetables, Pinto...     $8.75   \n",
       "\n",
       "[4622 rows x 5 columns]"
      ]
     },
     "execution_count": 2,
     "metadata": {},
     "output_type": "execute_result"
    }
   ],
   "source": [
    "# Seu código aqui\n",
    "import pandas as pd\n",
    "url= \"https://raw.githubusercontent.com/justmarkham/DAT8/master/data/chipotle.tsv\"\n",
    "df = pd.read_csv(url, sep='\\t')\n",
    "df"
   ]
  },
  {
   "cell_type": "markdown",
   "id": "6a8e21b5",
   "metadata": {},
   "source": [
    "## Exercício 2: Leia os dados do arquivo TSV"
   ]
  },
  {
   "cell_type": "markdown",
   "id": "b9039784",
   "metadata": {},
   "source": [
    "### 📘 Explicação:\n",
    "- `pd.read_csv()` com `sep='\\t'` para ler arquivos separados por tabulação."
   ]
  },
  {
   "cell_type": "code",
   "execution_count": null,
   "id": "e0b5b55d",
   "metadata": {},
   "outputs": [],
   "source": [
    "# Seu código aqui"
   ]
  },
  {
   "cell_type": "markdown",
   "id": "bde2cb52",
   "metadata": {},
   "source": [
    "## Exercício 3: Visualize as 10 primeiras entradas"
   ]
  },
  {
   "cell_type": "markdown",
   "id": "1920f25e",
   "metadata": {},
   "source": [
    "### 📘 Explicação:\n",
    "- `.head(10)`: retorna as 10 primeiras linhas do DataFrame."
   ]
  },
  {
   "cell_type": "code",
   "execution_count": null,
   "id": "58d21c45",
   "metadata": {},
   "outputs": [],
   "source": [
    "# Seu código aqui"
   ]
  },
  {
   "cell_type": "markdown",
   "id": "1972fc98",
   "metadata": {},
   "source": [
    "## Exercício 4: Quantas observações existem no dataset?"
   ]
  },
  {
   "cell_type": "markdown",
   "id": "e3defe6a",
   "metadata": {},
   "source": [
    "### 📘 Explicação:\n",
    "- `.shape[0]`: retorna o número de linhas do DataFrame."
   ]
  },
  {
   "cell_type": "code",
   "execution_count": null,
   "id": "c3c9cc22",
   "metadata": {},
   "outputs": [],
   "source": [
    "# Seu código aqui"
   ]
  },
  {
   "cell_type": "markdown",
   "id": "79579a58",
   "metadata": {},
   "source": [
    "## Exercício 5: Quantas colunas existem no dataset?"
   ]
  },
  {
   "cell_type": "markdown",
   "id": "ad7d5424",
   "metadata": {},
   "source": [
    "### 📘 Explicação:\n",
    "- `.shape[1]`: retorna o número de colunas do DataFrame."
   ]
  },
  {
   "cell_type": "code",
   "execution_count": null,
   "id": "3dc21fb6",
   "metadata": {},
   "outputs": [],
   "source": [
    "# Seu código aqui"
   ]
  },
  {
   "cell_type": "markdown",
   "id": "5dcdbe5e",
   "metadata": {},
   "source": [
    "## Exercício 6: Mostre o nome de todas as colunas"
   ]
  },
  {
   "cell_type": "markdown",
   "id": "1e486329",
   "metadata": {},
   "source": [
    "### 📘 Explicação:\n",
    "- `.columns`: retorna os nomes de todas as colunas do DataFrame."
   ]
  },
  {
   "cell_type": "code",
   "execution_count": null,
   "id": "ed519f39",
   "metadata": {},
   "outputs": [],
   "source": [
    "# Seu código aqui"
   ]
  },
  {
   "cell_type": "markdown",
   "id": "685d8d7e",
   "metadata": {},
   "source": [
    "## Exercício 7: Como o dataset está indexado?"
   ]
  },
  {
   "cell_type": "markdown",
   "id": "1f38c22e",
   "metadata": {},
   "source": [
    "### 📘 Explicação:\n",
    "- `.index`: mostra como as linhas estão indexadas (padrão ou customizado)."
   ]
  },
  {
   "cell_type": "code",
   "execution_count": null,
   "id": "708440f2",
   "metadata": {},
   "outputs": [],
   "source": [
    "# Seu código aqui"
   ]
  },
  {
   "cell_type": "markdown",
   "id": "d0413c6d",
   "metadata": {},
   "source": [
    "## Exercício 8: Qual é o item mais pedido?"
   ]
  },
  {
   "cell_type": "markdown",
   "id": "7a8b4f53",
   "metadata": {},
   "source": [
    "### 📘 Explicação:\n",
    "- `.groupby()`, `.sum()` e `.sort_values()` para agrupar, somar e ordenar."
   ]
  },
  {
   "cell_type": "code",
   "execution_count": null,
   "id": "8d34c6f9",
   "metadata": {},
   "outputs": [],
   "source": [
    "# Seu código aqui"
   ]
  },
  {
   "cell_type": "markdown",
   "id": "4b8362cc",
   "metadata": {},
   "source": [
    "## Exercício 9: Quantas vezes 'Chicken Bowl' foi pedido?"
   ]
  },
  {
   "cell_type": "markdown",
   "id": "065613bd",
   "metadata": {},
   "source": [
    "### 📘 Explicação:\n",
    "- Filtragem condicional e uso de `.quantity.sum()`."
   ]
  },
  {
   "cell_type": "code",
   "execution_count": null,
   "id": "fbb230c5",
   "metadata": {},
   "outputs": [],
   "source": [
    "# Seu código aqui"
   ]
  },
  {
   "cell_type": "markdown",
   "id": "3d0e9c26",
   "metadata": {},
   "source": [
    "## Exercício 10: Item mais pedido por item_name e choice_description"
   ]
  },
  {
   "cell_type": "markdown",
   "id": "eb2929b8",
   "metadata": {},
   "source": [
    "### 📘 Explicação:\n",
    "- Agrupamento duplo com `.groupby()` e agregação com `.sum()`."
   ]
  },
  {
   "cell_type": "code",
   "execution_count": null,
   "id": "c0f14d1a",
   "metadata": {},
   "outputs": [],
   "source": [
    "# Seu código aqui"
   ]
  },
  {
   "cell_type": "markdown",
   "id": "364bd054",
   "metadata": {},
   "source": [
    "## Exercício 11: Quantos itens foram vendidos no total?"
   ]
  },
  {
   "cell_type": "markdown",
   "id": "d4e8c650",
   "metadata": {},
   "source": [
    "### 📘 Explicação:\n",
    "- `.quantity.sum()`: retorna a soma total dos itens vendidos."
   ]
  },
  {
   "cell_type": "code",
   "execution_count": null,
   "id": "bad5ee7f",
   "metadata": {},
   "outputs": [],
   "source": [
    "# Seu código aqui"
   ]
  },
  {
   "cell_type": "markdown",
   "id": "1e900943",
   "metadata": {},
   "source": [
    "## Exercício 12: Qual foi a receita total da loja?"
   ]
  },
  {
   "cell_type": "markdown",
   "id": "6bb93dcf",
   "metadata": {},
   "source": [
    "### 📘 Explicação:\n",
    "- Converter `item_price` para float, multiplicar pela `quantity` e somar."
   ]
  },
  {
   "cell_type": "code",
   "execution_count": null,
   "id": "50869712",
   "metadata": {},
   "outputs": [],
   "source": [
    "# Seu código aqui"
   ]
  },
  {
   "cell_type": "markdown",
   "id": "75da0feb",
   "metadata": {},
   "source": [
    "## Exercício 13: Quantos pedidos únicos foram feitos?"
   ]
  },
  {
   "cell_type": "markdown",
   "id": "b0fb67b2",
   "metadata": {},
   "source": [
    "### 📘 Explicação:\n",
    "- `.nunique()` sobre `order_id` ou `len(df['order_id'].unique())`."
   ]
  },
  {
   "cell_type": "code",
   "execution_count": null,
   "id": "ee1ad62f",
   "metadata": {},
   "outputs": [],
   "source": [
    "# Seu código aqui"
   ]
  },
  {
   "cell_type": "markdown",
   "id": "94fa17bf",
   "metadata": {},
   "source": [
    "## Exercício 14: Qual é o preço médio por pedido?"
   ]
  },
  {
   "cell_type": "markdown",
   "id": "b624c7ca",
   "metadata": {},
   "source": [
    "### 📘 Explicação:\n",
    "- Receita total dividida pelo número de pedidos únicos."
   ]
  },
  {
   "cell_type": "code",
   "execution_count": null,
   "id": "acf29c6a",
   "metadata": {},
   "outputs": [],
   "source": [
    "# Seu código aqui"
   ]
  },
  {
   "cell_type": "markdown",
   "id": "a4d9753c",
   "metadata": {},
   "source": [
    "## Exercício 15: Quantos itens distintos foram vendidos?"
   ]
  },
  {
   "cell_type": "markdown",
   "id": "a0187c29",
   "metadata": {},
   "source": [
    "### 📘 Explicação:\n",
    "- `.item_name.nunique()` para contar itens únicos vendidos."
   ]
  },
  {
   "cell_type": "code",
   "execution_count": null,
   "id": "246e6192",
   "metadata": {},
   "outputs": [],
   "source": [
    "# Seu código aqui"
   ]
  },
  {
   "cell_type": "markdown",
   "id": "5f498e98",
   "metadata": {},
   "source": [
    "## Exercício 16: Qual é o item mais caro (preço unitário)?"
   ]
  },
  {
   "cell_type": "markdown",
   "id": "2920a4c8",
   "metadata": {},
   "source": [
    "### 📘 Explicação:\n",
    "- Ordenar os preços unitários após conversão para float e visualizar o topo."
   ]
  },
  {
   "cell_type": "code",
   "execution_count": null,
   "id": "9023ca68",
   "metadata": {},
   "outputs": [],
   "source": [
    "# Seu código aqui"
   ]
  },
  {
   "cell_type": "markdown",
   "id": "9a424070",
   "metadata": {},
   "source": [
    "## Exercício 17: Quais itens foram pedidos em mais de um pedido?"
   ]
  },
  {
   "cell_type": "markdown",
   "id": "0d49269a",
   "metadata": {},
   "source": [
    "### 📘 Explicação:\n",
    "- Usar `.duplicated()` ou `.value_counts()` com filtro."
   ]
  },
  {
   "cell_type": "code",
   "execution_count": null,
   "id": "cb06cfcf",
   "metadata": {},
   "outputs": [],
   "source": [
    "# Seu código aqui"
   ]
  }
 ],
 "metadata": {
  "kernelspec": {
   "display_name": "base",
   "language": "python",
   "name": "python3"
  },
  "language_info": {
   "codemirror_mode": {
    "name": "ipython",
    "version": 3
   },
   "file_extension": ".py",
   "mimetype": "text/x-python",
   "name": "python",
   "nbconvert_exporter": "python",
   "pygments_lexer": "ipython3",
   "version": "3.12.7"
  }
 },
 "nbformat": 4,
 "nbformat_minor": 5
}
