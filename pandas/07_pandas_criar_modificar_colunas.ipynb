{
 "cells": [
  {
   "cell_type": "markdown",
   "id": "92914ea5",
   "metadata": {},
   "source": [
    "# ✍️ Criar e Modificar Colunas"
   ]
  },
  {
   "cell_type": "markdown",
   "id": "1f442ebb",
   "metadata": {},
   "source": [
    "\n",
    "## ✅ Como criar uma nova coluna\n",
    "```python\n",
    "df[\"desconto\"] = df[\"preco\"] * 0.1\n",
    "```\n",
    "\n",
    "## ✅ Como modificar valores existentes\n",
    "```python\n",
    "df[\"preco\"] = df[\"preco\"] * 1.1\n",
    "```\n",
    "\n",
    "## ✅ Como aplicar uma função\n",
    "```python\n",
    "df[\"categoria_maiuscula\"] = df[\"categoria\"].apply(str.upper)\n",
    "```\n",
    "\n",
    "## ✅ Como remover colunas\n",
    "```python\n",
    "df.drop(\"estoque\", axis=1)\n",
    "```\n"
   ]
  },
  {
   "cell_type": "markdown",
   "id": "db0ccadc",
   "metadata": {},
   "source": [
    "### 🧪 Desafio 1"
   ]
  },
  {
   "cell_type": "code",
   "execution_count": null,
   "id": "4f07f291",
   "metadata": {},
   "outputs": [],
   "source": [
    "# Seu código aqui"
   ]
  },
  {
   "cell_type": "markdown",
   "id": "db009dfe",
   "metadata": {},
   "source": [
    "### 🧪 Desafio 2"
   ]
  },
  {
   "cell_type": "code",
   "execution_count": null,
   "id": "5cffd49b",
   "metadata": {},
   "outputs": [],
   "source": [
    "# Seu código aqui"
   ]
  },
  {
   "cell_type": "markdown",
   "id": "fe1ba8bd",
   "metadata": {},
   "source": [
    "### 🧪 Desafio 3"
   ]
  },
  {
   "cell_type": "code",
   "execution_count": null,
   "id": "43122c26",
   "metadata": {},
   "outputs": [],
   "source": [
    "# Seu código aqui"
   ]
  },
  {
   "cell_type": "markdown",
   "id": "8cdcf529",
   "metadata": {},
   "source": [
    "### 🧪 Desafio 4"
   ]
  },
  {
   "cell_type": "code",
   "execution_count": null,
   "id": "4de808df",
   "metadata": {},
   "outputs": [],
   "source": [
    "# Seu código aqui"
   ]
  },
  {
   "cell_type": "markdown",
   "id": "bbf67e2a",
   "metadata": {},
   "source": [
    "### 🧪 Desafio 5"
   ]
  },
  {
   "cell_type": "code",
   "execution_count": null,
   "id": "ce2dd3e4",
   "metadata": {},
   "outputs": [],
   "source": [
    "# Seu código aqui"
   ]
  }
 ],
 "metadata": {},
 "nbformat": 4,
 "nbformat_minor": 5
}
