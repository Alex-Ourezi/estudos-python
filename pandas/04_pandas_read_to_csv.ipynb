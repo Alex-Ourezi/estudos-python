{
 "cells": [
  {
   "cell_type": "markdown",
   "id": "a8149f73",
   "metadata": {},
   "source": [
    "# 📥 Leitura e Escrita de Arquivos com Pandas\n",
    "\n",
    "---\n",
    "\n",
    "## 📌 Função `read_csv()`\n",
    "\n",
    "Usada para ler arquivos `.csv` e transformar em um DataFrame.\n",
    "\n",
    "### ✅ Exemplo básico:\n",
    "```python\n",
    "import pandas as pd\n",
    "df = pd.read_csv(\"base_vendas.csv\")\n",
    "```\n",
    "\n",
    "---\n",
    "\n",
    "## 🔧 Parâmetros mais usados do `read_csv()`:\n",
    "\n",
    "| Parâmetro   | O que faz |\n",
    "|-------------|-----------|\n",
    "| `filepath_or_buffer` | Caminho do arquivo |\n",
    "| `sep`       | Separador de colunas (padrão: vírgula `,`) |\n",
    "| `encoding`  | Codificação do arquivo (ex: `\"utf-8\"`, `\"latin1\"`) |\n",
    "| `usecols`   | Lista de colunas que você quer carregar |\n",
    "| `nrows`     | Número de linhas a ler |\n",
    "| `skiprows`  | Quantas linhas iniciais ignorar |\n",
    "| `index_col` | Qual coluna usar como índice |\n",
    "| `decimal`   | Símbolo decimal (ex: `,` em vez de `.`) |\n",
    "\n",
    "---\n",
    "\n",
    "### 💡 Exemplos úteis:\n",
    "```python\n",
    "# Lendo CSV com separador ponto e vírgula e encoding\n",
    "df = pd.read_csv(\"base.csv\", sep=\";\", encoding=\"latin1\")\n",
    "\n",
    "# Lendo apenas algumas colunas\n",
    "df = pd.read_csv(\"base.csv\", usecols=[\"produto\", \"preco\"])\n",
    "\n",
    "# Usando uma coluna como índice\n",
    "df = pd.read_csv(\"base.csv\", index_col=\"produto\")\n",
    "```\n",
    "\n",
    "---\n",
    "\n",
    "## 📤 Função `to_csv()`\n",
    "\n",
    "Usada para salvar um DataFrame como CSV.\n",
    "\n",
    "### ✅ Exemplo básico:\n",
    "```python\n",
    "df.to_csv(\"saida.csv\", index=False)\n",
    "```\n",
    "\n",
    "---\n",
    "\n",
    "## 🔧 Parâmetros mais usados do `to_csv()`:\n",
    "\n",
    "| Parâmetro   | O que faz |\n",
    "|-------------|-----------|\n",
    "| `path_or_buf` | Caminho do arquivo de saída |\n",
    "| `sep`         | Separador |\n",
    "| `index`       | Salvar ou não o índice (padrão: `True`) |\n",
    "| `encoding`    | Codificação do arquivo |\n",
    "\n",
    "---\n",
    "\n",
    "## ⚠️ Dica importante:\n",
    "- Sempre use `index=False` para não salvar o índice como coluna no arquivo\n",
    "\n"
   ]
  },
  {
   "cell_type": "markdown",
   "id": "deee9d1c",
   "metadata": {},
   "source": [
    "### 🧪 1. Importe o arquivo 'base_vendas.csv' e exiba as 5 primeiras linhas"
   ]
  },
  {
   "cell_type": "code",
   "execution_count": null,
   "id": "1e4a303f",
   "metadata": {},
   "outputs": [],
   "source": [
    "# Seu código aqui"
   ]
  },
  {
   "cell_type": "markdown",
   "id": "b0b79181",
   "metadata": {},
   "source": [
    "### 🧪 2. Importe o arquivo, mas apenas as colunas 'produto' e 'preco'"
   ]
  },
  {
   "cell_type": "code",
   "execution_count": null,
   "id": "45698b3c",
   "metadata": {},
   "outputs": [],
   "source": [
    "# Seu código aqui"
   ]
  },
  {
   "cell_type": "markdown",
   "id": "b0d49212",
   "metadata": {},
   "source": [
    "### 🧪 3. Importe o arquivo com a coluna 'produto' como índice"
   ]
  },
  {
   "cell_type": "code",
   "execution_count": null,
   "id": "8f89f6d8",
   "metadata": {},
   "outputs": [],
   "source": [
    "# Seu código aqui"
   ]
  },
  {
   "cell_type": "markdown",
   "id": "14d443a0",
   "metadata": {},
   "source": [
    "### 🧪 4. Salve um novo arquivo CSV chamado 'estoque.csv' contendo apenas as colunas 'produto' e 'estoque'"
   ]
  },
  {
   "cell_type": "code",
   "execution_count": null,
   "id": "fae31430",
   "metadata": {},
   "outputs": [],
   "source": [
    "# Seu código aqui"
   ]
  },
  {
   "cell_type": "markdown",
   "id": "6bc8e373",
   "metadata": {},
   "source": [
    "### 🧪 5. Salve todo o DataFrame em um CSV separado por ponto e vírgula (;), sem o índice"
   ]
  },
  {
   "cell_type": "code",
   "execution_count": null,
   "id": "1393a3e0",
   "metadata": {},
   "outputs": [],
   "source": [
    "# Seu código aqui"
   ]
  }
 ],
 "metadata": {},
 "nbformat": 4,
 "nbformat_minor": 5
}
