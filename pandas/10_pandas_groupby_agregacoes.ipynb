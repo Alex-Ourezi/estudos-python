{
 "cells": [
  {
   "cell_type": "markdown",
   "id": "afe45d61",
   "metadata": {},
   "source": [
    "# 📊 GroupBy e Agregações"
   ]
  },
  {
   "cell_type": "markdown",
   "id": "10a82916",
   "metadata": {},
   "source": [
    "\n",
    "## ✅ Agrupando e somando\n",
    "```python\n",
    "df.groupby(\"categoria\")[\"preco\"].sum()\n",
    "```\n",
    "\n",
    "## ✅ Média por grupo\n",
    "```python\n",
    "df.groupby(\"loja\")[[\"preco\", \"estoque\"]].mean()\n",
    "```\n",
    "\n",
    "## ✅ Contagem por grupo\n",
    "```python\n",
    "df[\"loja\"].value_counts()\n",
    "```\n",
    "\n",
    "## ✅ Agregação múltipla\n",
    "```python\n",
    "df.groupby(\"categoria\").agg({\"preco\": \"mean\", \"estoque\": \"sum\"})\n",
    "```\n"
   ]
  },
  {
   "cell_type": "markdown",
   "id": "926845ba",
   "metadata": {},
   "source": [
    "### 🧪 Desafio 1"
   ]
  },
  {
   "cell_type": "code",
   "execution_count": null,
   "id": "ec28d9cd",
   "metadata": {},
   "outputs": [],
   "source": [
    "# Seu código aqui"
   ]
  },
  {
   "cell_type": "markdown",
   "id": "6ef059f1",
   "metadata": {},
   "source": [
    "### 🧪 Desafio 2"
   ]
  },
  {
   "cell_type": "code",
   "execution_count": null,
   "id": "01b7684c",
   "metadata": {},
   "outputs": [],
   "source": [
    "# Seu código aqui"
   ]
  },
  {
   "cell_type": "markdown",
   "id": "55bb607b",
   "metadata": {},
   "source": [
    "### 🧪 Desafio 3"
   ]
  },
  {
   "cell_type": "code",
   "execution_count": null,
   "id": "ed9da418",
   "metadata": {},
   "outputs": [],
   "source": [
    "# Seu código aqui"
   ]
  },
  {
   "cell_type": "markdown",
   "id": "ce4832ad",
   "metadata": {},
   "source": [
    "### 🧪 Desafio 4"
   ]
  },
  {
   "cell_type": "code",
   "execution_count": null,
   "id": "528abdde",
   "metadata": {},
   "outputs": [],
   "source": [
    "# Seu código aqui"
   ]
  },
  {
   "cell_type": "markdown",
   "id": "a716fe48",
   "metadata": {},
   "source": [
    "### 🧪 Desafio 5"
   ]
  },
  {
   "cell_type": "code",
   "execution_count": null,
   "id": "fc96c620",
   "metadata": {},
   "outputs": [],
   "source": [
    "# Seu código aqui"
   ]
  }
 ],
 "metadata": {},
 "nbformat": 4,
 "nbformat_minor": 5
}
