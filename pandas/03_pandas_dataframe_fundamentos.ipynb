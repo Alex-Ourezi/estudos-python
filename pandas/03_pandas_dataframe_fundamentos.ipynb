{
 "cells": [
  {
   "cell_type": "markdown",
   "id": "71c22d64",
   "metadata": {},
   "source": [
    "# 📘 O que é um DataFrame?\n",
    "\n",
    "Um `DataFrame` é a estrutura de dados **mais importante do Pandas**.\n",
    "\n",
    "É como uma planilha do Excel ou uma tabela de banco de dados, com **linhas e colunas rotuladas**.\n",
    "\n",
    "---\n",
    "\n",
    "## ✅ Para que serve?\n",
    "- Representar dados tabulares\n",
    "- Armazenar, limpar, filtrar, agrupar e exportar dados\n",
    "- É a base para 90% das análises com Pandas\n",
    "\n",
    "---\n",
    "\n",
    "## 🛠️ Como criar um DataFrame:\n",
    "\n",
    "### 1. A partir de um dicionário:\n",
    "```python\n",
    "import pandas as pd\n",
    "\n",
    "dados = {\n",
    "    \"produto\": [\"Camiseta\", \"Calça\", \"Boné\"],\n",
    "    \"preco\": [49.90, 89.90, 29.90]\n",
    "}\n",
    "\n",
    "df = pd.DataFrame(dados)\n",
    "```\n",
    "\n",
    "### 2. A partir de uma lista de dicionários:\n",
    "```python\n",
    "df = pd.DataFrame([\n",
    "    {\"produto\": \"Tênis\", \"preco\": 199.9},\n",
    "    {\"produto\": \"Meia\", \"preco\": 9.9}\n",
    "])\n",
    "```\n",
    "\n",
    "---\n",
    "\n",
    "## 🔧 Parâmetros importantes ao criar:\n",
    "\n",
    "| Parâmetro | O que faz |\n",
    "|-----------|-----------|\n",
    "| `data`    | Os dados (dicionário, lista, array, etc) |\n",
    "| `columns` | Define a ordem e os nomes das colunas |\n",
    "| `index`   | Define os rótulos das linhas (opcional) |\n",
    "\n",
    "---\n",
    "\n",
    "## 💡 Dicas:\n",
    "- Você pode acessar uma coluna com `df['coluna']`\n",
    "- Um `DataFrame` pode conter **diferentes tipos de dados**\n",
    "- É possível **alterar colunas, tipos e filtros** diretamente\n",
    "\n",
    "---\n",
    "\n",
    "## 🧪 Exemplo real:\n",
    "```python\n",
    "estoque = {\n",
    "    \"produto\": [\"Camiseta\", \"Tênis\", \"Boné\"],\n",
    "    \"preco\": [49.9, 219.9, 39.9],\n",
    "    \"estoque\": [10, 4, 25]\n",
    "}\n",
    "\n",
    "df = pd.DataFrame(estoque)\n",
    "```\n"
   ]
  },
  {
   "cell_type": "markdown",
   "id": "c695dc21",
   "metadata": {},
   "source": [
    "### 🧪 1. Crie um DataFrame com os dados de 3 produtos com as colunas: produto, categoria e preço"
   ]
  },
  {
   "cell_type": "code",
   "execution_count": null,
   "id": "8c437058",
   "metadata": {},
   "outputs": [],
   "source": [
    "# Seu código aqui"
   ]
  },
  {
   "cell_type": "markdown",
   "id": "463d1119",
   "metadata": {},
   "source": [
    "### 🧪 2. Crie um DataFrame com os dados de 2 clientes: nome, idade e cidade"
   ]
  },
  {
   "cell_type": "code",
   "execution_count": null,
   "id": "3831ef19",
   "metadata": {},
   "outputs": [],
   "source": [
    "# Seu código aqui"
   ]
  },
  {
   "cell_type": "markdown",
   "id": "2218ad2e",
   "metadata": {},
   "source": [
    "### 🧪 3. Acesse a coluna 'preco' do seu DataFrame de produtos"
   ]
  },
  {
   "cell_type": "code",
   "execution_count": null,
   "id": "fd3b95dc",
   "metadata": {},
   "outputs": [],
   "source": [
    "# Seu código aqui"
   ]
  },
  {
   "cell_type": "markdown",
   "id": "04ed02e7",
   "metadata": {},
   "source": [
    "### 🧪 4. Adicione uma nova coluna chamada 'estoque' com valores fictícios"
   ]
  },
  {
   "cell_type": "code",
   "execution_count": null,
   "id": "d80d1169",
   "metadata": {},
   "outputs": [],
   "source": [
    "# Seu código aqui"
   ]
  },
  {
   "cell_type": "markdown",
   "id": "4ef764b9",
   "metadata": {},
   "source": [
    "### 🧪 5. Crie um DataFrame com 4 linhas e 2 colunas: 'produto' e 'disponivel', e defina o índice manualmente como ['A', 'B', 'C', 'D']"
   ]
  },
  {
   "cell_type": "code",
   "execution_count": null,
   "id": "2f2c5b66",
   "metadata": {},
   "outputs": [],
   "source": [
    "# Seu código aqui"
   ]
  }
 ],
 "metadata": {},
 "nbformat": 4,
 "nbformat_minor": 5
}
