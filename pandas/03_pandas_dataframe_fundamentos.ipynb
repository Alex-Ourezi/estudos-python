{
 "cells": [
  {
   "cell_type": "markdown",
   "id": "71c22d64",
   "metadata": {},
   "source": [
    "# 📘 O que é um DataFrame?\n",
    "\n",
    "Um `DataFrame` é a estrutura de dados **mais importante do Pandas**.\n",
    "\n",
    "É como uma planilha do Excel ou uma tabela de banco de dados, com **linhas e colunas rotuladas**.\n",
    "\n",
    "---\n",
    "\n",
    "## ✅ Para que serve?\n",
    "- Representar dados tabulares\n",
    "- Armazenar, limpar, filtrar, agrupar e exportar dados\n",
    "- É a base para 90% das análises com Pandas\n",
    "\n",
    "---\n",
    "\n",
    "## 🛠️ Como criar um DataFrame:\n",
    "\n",
    "### 1. A partir de um dicionário:\n",
    "```python\n",
    "import pandas as pd\n",
    "\n",
    "dados = {\n",
    "    \"produto\": [\"Camiseta\", \"Calça\", \"Boné\"],\n",
    "    \"preco\": [49.90, 89.90, 29.90]\n",
    "}\n",
    "\n",
    "df = pd.DataFrame(dados)\n",
    "```\n",
    "\n",
    "### 2. A partir de uma lista de dicionários:\n",
    "```python\n",
    "df = pd.DataFrame([\n",
    "    {\"produto\": \"Tênis\", \"preco\": 199.9},\n",
    "    {\"produto\": \"Meia\", \"preco\": 9.9}\n",
    "])\n",
    "```\n",
    "\n",
    "---\n",
    "\n",
    "## 🔧 Parâmetros importantes ao criar:\n",
    "\n",
    "| Parâmetro | O que faz |\n",
    "|-----------|-----------|\n",
    "| `data`    | Os dados (dicionário, lista, array, etc) |\n",
    "| `columns` | Define a ordem e os nomes das colunas |\n",
    "| `index`   | Define os rótulos das linhas (opcional) |\n",
    "\n",
    "---\n",
    "\n",
    "## 💡 Dicas:\n",
    "- Você pode acessar uma coluna com `df['coluna']`\n",
    "- Um `DataFrame` pode conter **diferentes tipos de dados**\n",
    "- É possível **alterar colunas, tipos e filtros** diretamente\n",
    "\n",
    "---\n",
    "\n",
    "## 🧪 Exemplo real:\n",
    "```python\n",
    "estoque = {\n",
    "    \"produto\": [\"Camiseta\", \"Tênis\", \"Boné\"],\n",
    "    \"preco\": [49.9, 219.9, 39.9],\n",
    "    \"estoque\": [10, 4, 25]\n",
    "}\n",
    "\n",
    "df = pd.DataFrame(estoque)\n",
    "```\n"
   ]
  },
  {
   "cell_type": "markdown",
   "id": "c695dc21",
   "metadata": {},
   "source": [
    "### 🧪 1. Crie um DataFrame com os dados de 3 produtos com as colunas: produto, categoria e preço"
   ]
  },
  {
   "cell_type": "code",
   "execution_count": 7,
   "id": "8c437058",
   "metadata": {},
   "outputs": [
    {
     "data": {
      "text/html": [
       "<div>\n",
       "<style scoped>\n",
       "    .dataframe tbody tr th:only-of-type {\n",
       "        vertical-align: middle;\n",
       "    }\n",
       "\n",
       "    .dataframe tbody tr th {\n",
       "        vertical-align: top;\n",
       "    }\n",
       "\n",
       "    .dataframe thead th {\n",
       "        text-align: right;\n",
       "    }\n",
       "</style>\n",
       "<table border=\"1\" class=\"dataframe\">\n",
       "  <thead>\n",
       "    <tr style=\"text-align: right;\">\n",
       "      <th></th>\n",
       "      <th>Produto</th>\n",
       "      <th>Categoria</th>\n",
       "      <th>Preço</th>\n",
       "    </tr>\n",
       "  </thead>\n",
       "  <tbody>\n",
       "    <tr>\n",
       "      <th>0</th>\n",
       "      <td>Camiseta</td>\n",
       "      <td>Vetuário</td>\n",
       "      <td>29.9</td>\n",
       "    </tr>\n",
       "    <tr>\n",
       "      <th>1</th>\n",
       "      <td>Calça</td>\n",
       "      <td>Vestuário</td>\n",
       "      <td>89.9</td>\n",
       "    </tr>\n",
       "    <tr>\n",
       "      <th>2</th>\n",
       "      <td>Bermuda</td>\n",
       "      <td>Vestuário</td>\n",
       "      <td>47.9</td>\n",
       "    </tr>\n",
       "    <tr>\n",
       "      <th>3</th>\n",
       "      <td>Tênis</td>\n",
       "      <td>Calçado</td>\n",
       "      <td>119.0</td>\n",
       "    </tr>\n",
       "    <tr>\n",
       "      <th>4</th>\n",
       "      <td>Boné</td>\n",
       "      <td>Acessório</td>\n",
       "      <td>19.8</td>\n",
       "    </tr>\n",
       "  </tbody>\n",
       "</table>\n",
       "</div>"
      ],
      "text/plain": [
       "    Produto  Categoria  Preço\n",
       "0  Camiseta   Vetuário   29.9\n",
       "1     Calça  Vestuário   89.9\n",
       "2   Bermuda  Vestuário   47.9\n",
       "3     Tênis    Calçado  119.0\n",
       "4      Boné  Acessório   19.8"
      ]
     },
     "execution_count": 7,
     "metadata": {},
     "output_type": "execute_result"
    }
   ],
   "source": [
    "# Seu código aqui\n",
    "import pandas as pd\n",
    "\n",
    "produtos = {'Produto': ['Camiseta', 'Calça', 'Bermuda', 'Tênis', 'Boné'], 'Categoria': ['Vetuário', 'Vestuário', 'Vestuário', 'Calçado', 'Acessório'], 'Preço': [29.90, 89.90, 47.90, 119.00, 19.80]}\n",
    "produtos_df = pd.DataFrame(produtos)\n",
    "produtos_df"
   ]
  },
  {
   "cell_type": "markdown",
   "id": "463d1119",
   "metadata": {},
   "source": [
    "### 🧪 2. Crie um DataFrame com os dados de 2 clientes: nome, idade e cidade"
   ]
  },
  {
   "cell_type": "code",
   "execution_count": 9,
   "id": "3831ef19",
   "metadata": {},
   "outputs": [
    {
     "data": {
      "text/html": [
       "<div>\n",
       "<style scoped>\n",
       "    .dataframe tbody tr th:only-of-type {\n",
       "        vertical-align: middle;\n",
       "    }\n",
       "\n",
       "    .dataframe tbody tr th {\n",
       "        vertical-align: top;\n",
       "    }\n",
       "\n",
       "    .dataframe thead th {\n",
       "        text-align: right;\n",
       "    }\n",
       "</style>\n",
       "<table border=\"1\" class=\"dataframe\">\n",
       "  <thead>\n",
       "    <tr style=\"text-align: right;\">\n",
       "      <th></th>\n",
       "      <th>Nome</th>\n",
       "      <th>Idade</th>\n",
       "      <th>Cidade</th>\n",
       "    </tr>\n",
       "  </thead>\n",
       "  <tbody>\n",
       "    <tr>\n",
       "      <th>0</th>\n",
       "      <td>Luiz</td>\n",
       "      <td>43</td>\n",
       "      <td>São Paulo</td>\n",
       "    </tr>\n",
       "    <tr>\n",
       "      <th>1</th>\n",
       "      <td>João</td>\n",
       "      <td>35</td>\n",
       "      <td>Taboão da Serra</td>\n",
       "    </tr>\n",
       "  </tbody>\n",
       "</table>\n",
       "</div>"
      ],
      "text/plain": [
       "   Nome Idade           Cidade\n",
       "0  Luiz    43        São Paulo\n",
       "1  João    35  Taboão da Serra"
      ]
     },
     "execution_count": 9,
     "metadata": {},
     "output_type": "execute_result"
    }
   ],
   "source": [
    "# Seu código aqui\n",
    "clientes_df = pd.DataFrame([{'Nome': 'Luiz', 'Idade':'43', 'Cidade':'São Paulo'},{'Nome': 'João', 'Idade':'35', 'Cidade':'Taboão da Serra'}])\n",
    "clientes_df"
   ]
  },
  {
   "cell_type": "markdown",
   "id": "2218ad2e",
   "metadata": {},
   "source": [
    "### 🧪 3. Acesse a coluna 'preco' do seu DataFrame de produtos"
   ]
  },
  {
   "cell_type": "code",
   "execution_count": 10,
   "id": "fd3b95dc",
   "metadata": {},
   "outputs": [
    {
     "data": {
      "text/plain": [
       "0     29.9\n",
       "1     89.9\n",
       "2     47.9\n",
       "3    119.0\n",
       "4     19.8\n",
       "Name: Preço, dtype: float64"
      ]
     },
     "execution_count": 10,
     "metadata": {},
     "output_type": "execute_result"
    }
   ],
   "source": [
    "# Seu código aqui\n",
    "produtos_df['Preço']"
   ]
  },
  {
   "cell_type": "markdown",
   "id": "04ed02e7",
   "metadata": {},
   "source": [
    "### 🧪 4. Adicione uma nova coluna chamada 'estoque' com valores fictícios"
   ]
  },
  {
   "cell_type": "code",
   "execution_count": 12,
   "id": "d80d1169",
   "metadata": {},
   "outputs": [
    {
     "data": {
      "text/html": [
       "<div>\n",
       "<style scoped>\n",
       "    .dataframe tbody tr th:only-of-type {\n",
       "        vertical-align: middle;\n",
       "    }\n",
       "\n",
       "    .dataframe tbody tr th {\n",
       "        vertical-align: top;\n",
       "    }\n",
       "\n",
       "    .dataframe thead th {\n",
       "        text-align: right;\n",
       "    }\n",
       "</style>\n",
       "<table border=\"1\" class=\"dataframe\">\n",
       "  <thead>\n",
       "    <tr style=\"text-align: right;\">\n",
       "      <th></th>\n",
       "      <th>Produto</th>\n",
       "      <th>Categoria</th>\n",
       "      <th>Preço</th>\n",
       "      <th>Estoque</th>\n",
       "    </tr>\n",
       "  </thead>\n",
       "  <tbody>\n",
       "    <tr>\n",
       "      <th>0</th>\n",
       "      <td>Camiseta</td>\n",
       "      <td>Vetuário</td>\n",
       "      <td>29.9</td>\n",
       "      <td>27</td>\n",
       "    </tr>\n",
       "    <tr>\n",
       "      <th>1</th>\n",
       "      <td>Calça</td>\n",
       "      <td>Vestuário</td>\n",
       "      <td>89.9</td>\n",
       "      <td>19</td>\n",
       "    </tr>\n",
       "    <tr>\n",
       "      <th>2</th>\n",
       "      <td>Bermuda</td>\n",
       "      <td>Vestuário</td>\n",
       "      <td>47.9</td>\n",
       "      <td>22</td>\n",
       "    </tr>\n",
       "    <tr>\n",
       "      <th>3</th>\n",
       "      <td>Tênis</td>\n",
       "      <td>Calçado</td>\n",
       "      <td>119.0</td>\n",
       "      <td>7</td>\n",
       "    </tr>\n",
       "    <tr>\n",
       "      <th>4</th>\n",
       "      <td>Boné</td>\n",
       "      <td>Acessório</td>\n",
       "      <td>19.8</td>\n",
       "      <td>10</td>\n",
       "    </tr>\n",
       "  </tbody>\n",
       "</table>\n",
       "</div>"
      ],
      "text/plain": [
       "    Produto  Categoria  Preço  Estoque\n",
       "0  Camiseta   Vetuário   29.9       27\n",
       "1     Calça  Vestuário   89.9       19\n",
       "2   Bermuda  Vestuário   47.9       22\n",
       "3     Tênis    Calçado  119.0        7\n",
       "4      Boné  Acessório   19.8       10"
      ]
     },
     "execution_count": 12,
     "metadata": {},
     "output_type": "execute_result"
    }
   ],
   "source": [
    "# Seu código aqui\n",
    "produtos_df['Estoque'] = [27, 19, 22, 7, 10]\n",
    "produtos_df"
   ]
  },
  {
   "cell_type": "markdown",
   "id": "4ef764b9",
   "metadata": {},
   "source": [
    "### 🧪 5. Crie um DataFrame com 4 linhas e 2 colunas: 'produto' e 'disponivel', e defina o índice manualmente como ['A', 'B', 'C', 'D']"
   ]
  },
  {
   "cell_type": "code",
   "execution_count": 15,
   "id": "2f2c5b66",
   "metadata": {},
   "outputs": [
    {
     "data": {
      "text/html": [
       "<div>\n",
       "<style scoped>\n",
       "    .dataframe tbody tr th:only-of-type {\n",
       "        vertical-align: middle;\n",
       "    }\n",
       "\n",
       "    .dataframe tbody tr th {\n",
       "        vertical-align: top;\n",
       "    }\n",
       "\n",
       "    .dataframe thead th {\n",
       "        text-align: right;\n",
       "    }\n",
       "</style>\n",
       "<table border=\"1\" class=\"dataframe\">\n",
       "  <thead>\n",
       "    <tr style=\"text-align: right;\">\n",
       "      <th></th>\n",
       "      <th>Produtos</th>\n",
       "      <th>Disponivel</th>\n",
       "    </tr>\n",
       "  </thead>\n",
       "  <tbody>\n",
       "    <tr>\n",
       "      <th>A</th>\n",
       "      <td>Barraca</td>\n",
       "      <td>Sim</td>\n",
       "    </tr>\n",
       "    <tr>\n",
       "      <th>B</th>\n",
       "      <td>Rede</td>\n",
       "      <td>Não</td>\n",
       "    </tr>\n",
       "    <tr>\n",
       "      <th>C</th>\n",
       "      <td>Cadeira</td>\n",
       "      <td>Sim</td>\n",
       "    </tr>\n",
       "    <tr>\n",
       "      <th>D</th>\n",
       "      <td>Lanterna</td>\n",
       "      <td>Sim</td>\n",
       "    </tr>\n",
       "  </tbody>\n",
       "</table>\n",
       "</div>"
      ],
      "text/plain": [
       "   Produtos Disponivel\n",
       "A   Barraca        Sim\n",
       "B      Rede        Não\n",
       "C   Cadeira        Sim\n",
       "D  Lanterna        Sim"
      ]
     },
     "execution_count": 15,
     "metadata": {},
     "output_type": "execute_result"
    }
   ],
   "source": [
    "# Seu código aqui\n",
    "produtos_disponiveis_df = pd.DataFrame({'Produtos': ['Barraca', 'Rede', 'Cadeira', 'Lanterna'], 'Disponivel': ['Sim', 'Não', 'Sim', 'Sim']}, index=['A', 'B', 'C', 'D'])\n",
    "produtos_disponiveis_df"
   ]
  }
 ],
 "metadata": {
  "kernelspec": {
   "display_name": "base",
   "language": "python",
   "name": "python3"
  },
  "language_info": {
   "codemirror_mode": {
    "name": "ipython",
    "version": 3
   },
   "file_extension": ".py",
   "mimetype": "text/x-python",
   "name": "python",
   "nbconvert_exporter": "python",
   "pygments_lexer": "ipython3",
   "version": "3.12.7"
  }
 },
 "nbformat": 4,
 "nbformat_minor": 5
}
